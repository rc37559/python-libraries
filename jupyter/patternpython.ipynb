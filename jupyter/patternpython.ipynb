{
 "cells": [
  {
   "cell_type": "code",
   "execution_count": 1,
   "id": "d8dcbce8",
   "metadata": {},
   "outputs": [
    {
     "name": "stdout",
     "output_type": "stream",
     "text": [
      "Enter the number of rows:5\n",
      "* \n",
      "* * \n",
      "* * * \n",
      "* * * * \n",
      "* * * * * \n"
     ]
    }
   ],
   "source": [
    "i=1\n",
    "r=int(input(\"Enter the number of rows:\")) \n",
    "while i<=r:\n",
    "    j=1\n",
    "    while j<=i:\n",
    "        print(\"*\",end=\" \")\n",
    "        j=j+1\n",
    "      \n",
    "    i=i+1\n",
    "    print()"
   ]
  },
  {
   "cell_type": "code",
   "execution_count": 2,
   "id": "b3d065b1",
   "metadata": {},
   "outputs": [
    {
     "name": "stdout",
     "output_type": "stream",
     "text": [
      "Enter the number of rows:5\n",
      "* * * * * \n",
      "* * * * * \n",
      "* * * * * \n",
      "* * * * * \n",
      "* * * * * \n"
     ]
    }
   ],
   "source": [
    "i=1\n",
    "r=int(input(\"Enter the number of rows:\")) \n",
    "while i<=r:\n",
    "    j=1\n",
    "    while j<=r:\n",
    "        print(\"*\",end=\" \")\n",
    "        j=j+1\n",
    "      \n",
    "    i=i+1\n",
    "    print()"
   ]
  },
  {
   "cell_type": "code",
   "execution_count": 3,
   "id": "d558185a",
   "metadata": {},
   "outputs": [
    {
     "name": "stdout",
     "output_type": "stream",
     "text": [
      "Enter the number of rows:5\n",
      "1 \n",
      "2 2 \n",
      "3 3 3 \n",
      "4 4 4 4 \n",
      "5 5 5 5 5 \n"
     ]
    }
   ],
   "source": [
    "i=1\n",
    "r=int(input(\"Enter the number of rows:\")) \n",
    "while i<=r:\n",
    "    j=1\n",
    "    while j<=i:\n",
    "        print(i,end=\" \")\n",
    "        j=j+1\n",
    "      \n",
    "    i=i+1\n",
    "    print()"
   ]
  },
  {
   "cell_type": "code",
   "execution_count": 4,
   "id": "f144269f",
   "metadata": {},
   "outputs": [
    {
     "name": "stdout",
     "output_type": "stream",
     "text": [
      "Enter the number of rows:5\n",
      "1 1 1 1 1 \n",
      "2 2 2 2 2 \n",
      "3 3 3 3 3 \n",
      "4 4 4 4 4 \n",
      "5 5 5 5 5 \n"
     ]
    }
   ],
   "source": [
    "i=1\n",
    "r=int(input(\"Enter the number of rows:\")) \n",
    "while i<=r:\n",
    "    j=1\n",
    "    while j<=r:\n",
    "        print(i,end=\" \")\n",
    "        j=j+1\n",
    "      \n",
    "    i=i+1\n",
    "    print()"
   ]
  },
  {
   "cell_type": "code",
   "execution_count": 5,
   "id": "df3263f9",
   "metadata": {},
   "outputs": [
    {
     "name": "stdout",
     "output_type": "stream",
     "text": [
      "Enter the number of rows:5\n",
      "1 \n",
      "2 1 \n",
      "3 2 1 \n",
      "4 3 2 1 \n",
      "5 4 3 2 1 \n"
     ]
    }
   ],
   "source": [
    "i=1\n",
    "r=int(input(\"Enter the number of rows:\")) \n",
    "while i<=r:\n",
    "    j=1\n",
    "    while j<=i:\n",
    "        print(i-j+1,end=\" \")\n",
    "        j=j+1\n",
    "      \n",
    "    i=i+1\n",
    "    print()"
   ]
  },
  {
   "cell_type": "code",
   "execution_count": 6,
   "id": "a9db5747",
   "metadata": {},
   "outputs": [
    {
     "name": "stdout",
     "output_type": "stream",
     "text": [
      "Enter the number of rows:5\n",
      "        * \n",
      "      * * \n",
      "    * * * \n",
      "  * * * * \n",
      "* * * * * \n"
     ]
    }
   ],
   "source": [
    "i=1\n",
    "n=int(input(\"Enter the number of rows:\")) \n",
    "while i<=n:\n",
    "    j=1\n",
    "    space=n-i\n",
    "    while space:\n",
    "        print(\" \",end=\" \")\n",
    "        space=space-1\n",
    "    while j<=i:\n",
    "        print(\"*\",end=\" \")\n",
    "        j=j+1\n",
    "    print()\n",
    "    i=i+1       "
   ]
  },
  {
   "cell_type": "code",
   "execution_count": 7,
   "id": "9d71cfbf",
   "metadata": {},
   "outputs": [
    {
     "name": "stdout",
     "output_type": "stream",
     "text": [
      "Enter the number of rows:5\n",
      "* \n",
      "* * \n",
      "* * * \n",
      "* * * * \n",
      "* * * * * \n"
     ]
    }
   ],
   "source": [
    "i=1\n",
    "n=int(input(\"Enter the number of rows:\")) \n",
    "while i<=n:\n",
    "    j=1\n",
    "    space=i-1\n",
    "    while j<=i:\n",
    "        print(\"*\",end=\" \")\n",
    "        j=j+1\n",
    "\n",
    "    print()\n",
    "    i=i+1 "
   ]
  },
  {
   "cell_type": "code",
   "execution_count": 8,
   "id": "630bedb8",
   "metadata": {},
   "outputs": [
    {
     "name": "stdout",
     "output_type": "stream",
     "text": [
      "Enter the number of rows:5\n",
      "1 2 3 4 5 5 4 3 2 1 \n",
      "1 2 3 4 * * 4 3 2 1 \n",
      "1 2 3 * * * * 3 2 1 \n",
      "1 2 * * * * * * 2 1 \n",
      "1 * * * * * * * * 1 \n"
     ]
    }
   ],
   "source": [
    "i=1\n",
    "n=int(input(\"Enter the number of rows:\")) \n",
    "while i<=n:\n",
    "    j=1\n",
    "    star=i-1\n",
    "    while j<=n-i+1:\n",
    "        print(j,end=\" \")\n",
    "        j=j+1\n",
    "    while star:\n",
    "        print(\"*\",end=\" \")\n",
    "        star=star-1\n",
    "    star1=i-1    \n",
    "    while star1:\n",
    "        print(\"*\",end=\" \")\n",
    "        star1=star1-1    \n",
    "    k=n-i+1    \n",
    "    while k:\n",
    "        print (k,end=\" \")\n",
    "        k=k-1\n",
    "\n",
    "    print()\n",
    "    i=i+1"
   ]
  },
  {
   "cell_type": "code",
   "execution_count": 9,
   "id": "4d81dc84",
   "metadata": {},
   "outputs": [
    {
     "name": "stdout",
     "output_type": "stream",
     "text": [
      "*********PASCAL TRIANGLE PATTERN************\n",
      "Enter the number of rows:5\n",
      "        1         \n",
      "      1 2 1       \n",
      "    1 2 3 2 1     \n",
      "  1 2 3 4 3 2 1   \n",
      "1 2 3 4 5 4 3 2 1 \n"
     ]
    }
   ],
   "source": [
    "i=1\n",
    "print(\"*********PASCAL TRIANGLE PATTERN************\")\n",
    "n=int(input(\"Enter the number of rows:\")) \n",
    "while i<=n:\n",
    "    space=n-i\n",
    "    while space:\n",
    "        print(\" \",end=\" \")\n",
    "        space=space-1\n",
    "    j=1\n",
    "    while j<=i:\n",
    "        print(j,end=\" \")\n",
    "        j=j+1\n",
    "        \n",
    "    k=i-1   \n",
    "    while k:\n",
    "        print(k,end=\" \")\n",
    "        k=k-1\n",
    "    space=n-i    \n",
    "    while space:\n",
    "        print(\" \",end=\" \")\n",
    "        space=space-1\n",
    "    \n",
    "    \n",
    "    i=i+1\n",
    "    print()"
   ]
  },
  {
   "cell_type": "code",
   "execution_count": 10,
   "id": "dec50fd0",
   "metadata": {},
   "outputs": [
    {
     "name": "stdout",
     "output_type": "stream",
     "text": [
      "Enter the number of rows:5\n",
      "1 1 1 1 1 \n",
      "  2 2 2 2 \n",
      "    3 3 3 \n",
      "      4 4 \n",
      "        5 \n"
     ]
    }
   ],
   "source": [
    "i=1\n",
    "n=int(input(\"Enter the number of rows:\"))\n",
    "while (i<=n):\n",
    "    j=1\n",
    "    space=i-1\n",
    "    while space:\n",
    "        print(\" \",end=\" \")\n",
    "        space=space-1\n",
    "    while j<=n-i+1:\n",
    "        print(i,end=\" \")\n",
    "        j=j+1\n",
    "    \n",
    "    i=i+1\n",
    "    print()\n",
    "        "
   ]
  },
  {
   "cell_type": "code",
   "execution_count": 11,
   "id": "4c408f50",
   "metadata": {},
   "outputs": [
    {
     "name": "stdout",
     "output_type": "stream",
     "text": [
      "Enter the number of rows:5\n",
      "        1 \n",
      "      2 2 \n",
      "    3 3 3 \n",
      "  4 4 4 4 \n",
      "5 5 5 5 5 \n"
     ]
    }
   ],
   "source": [
    "i=1\n",
    "n=int(input(\"Enter the number of rows:\"))\n",
    "while i<=n:\n",
    "    j=1\n",
    "    space=n-i\n",
    "    while space:\n",
    "        print(\" \",end=\" \")\n",
    "        space=space-1\n",
    "    while j<=i:\n",
    "        print(i,end=\" \")\n",
    "        j=j+1\n",
    "    i=i+1\n",
    "    print()"
   ]
  },
  {
   "cell_type": "code",
   "execution_count": 12,
   "id": "015a1d53",
   "metadata": {},
   "outputs": [
    {
     "name": "stdout",
     "output_type": "stream",
     "text": [
      "Enter the number of rows:5\n",
      "1 2 3 4 5 \n",
      "  2 3 4 5 \n",
      "    3 4 5 \n",
      "      4 5 \n",
      "        5 \n"
     ]
    }
   ],
   "source": [
    "i=1\n",
    "n=int(input(\"Enter the number of rows:\"))\n",
    "while i<=n:\n",
    "    j=1\n",
    "    space=i-1\n",
    "    while space:\n",
    "        print(\" \",end=\" \")\n",
    "        space=space-1\n",
    "    k=i    \n",
    "    while j<=n-i+1:\n",
    "        print(k,end=\" \")\n",
    "        j=j+1\n",
    "        k=k+1\n",
    "    i=i+1\n",
    "    print()"
   ]
  },
  {
   "cell_type": "code",
   "execution_count": 18,
   "id": "6e5d0d91",
   "metadata": {},
   "outputs": [
    {
     "name": "stdout",
     "output_type": "stream",
     "text": [
      "Enter the number of rows:5\n",
      "        1 \n",
      "      2 3 \n",
      "    4 5 6 \n",
      "  7 8 9 10 \n",
      "11 12 13 14 15 \n"
     ]
    }
   ],
   "source": [
    "i=1\n",
    "k=1\n",
    "n=int(input(\"Enter the number of rows:\"))\n",
    "while i<=n:\n",
    "    space=n-i\n",
    "    while(space):\n",
    "        print(\" \",end=\" \")\n",
    "        space=space-1\n",
    "    j=1    \n",
    "    while (j<=i):\n",
    "        print(k,end=\" \")\n",
    "        k=k+1\n",
    "        j=j+1\n",
    "    i=i+1\n",
    "    print()\n",
    "    \n",
    " "
   ]
  },
  {
   "cell_type": "markdown",
   "id": "f5062a03",
   "metadata": {},
   "source": [
    "##### "
   ]
  }
 ],
 "metadata": {
  "kernelspec": {
   "display_name": "Python 3 (ipykernel)",
   "language": "python",
   "name": "python3"
  },
  "language_info": {
   "codemirror_mode": {
    "name": "ipython",
    "version": 3
   },
   "file_extension": ".py",
   "mimetype": "text/x-python",
   "name": "python",
   "nbconvert_exporter": "python",
   "pygments_lexer": "ipython3",
   "version": "3.10.1"
  }
 },
 "nbformat": 4,
 "nbformat_minor": 5
}
