{
 "cells": [
  {
   "cell_type": "markdown",
   "id": "60a4f95b",
   "metadata": {},
   "source": [
    "# Lambda function: \n",
    "anonymous function \n",
    "a function with no name "
   ]
  },
  {
   "cell_type": "code",
   "execution_count": 3,
   "id": "beffba9a",
   "metadata": {},
   "outputs": [],
   "source": [
    "def addition(a,b):\n",
    "    return a+b"
   ]
  },
  {
   "cell_type": "code",
   "execution_count": 4,
   "id": "889cecb7",
   "metadata": {},
   "outputs": [
    {
     "data": {
      "text/plain": [
       "9"
      ]
     },
     "execution_count": 4,
     "metadata": {},
     "output_type": "execute_result"
    }
   ],
   "source": [
    "addition(5,4)"
   ]
  },
  {
   "cell_type": "code",
   "execution_count": 11,
   "id": "e8c56bc8",
   "metadata": {},
   "outputs": [],
   "source": [
    "add=lambda c,d:c+d"
   ]
  },
  {
   "cell_type": "code",
   "execution_count": 12,
   "id": "86c0a4c0",
   "metadata": {},
   "outputs": [
    {
     "data": {
      "text/plain": [
       "143"
      ]
     },
     "execution_count": 12,
     "metadata": {},
     "output_type": "execute_result"
    }
   ],
   "source": [
    "add(99,44)"
   ]
  },
  {
   "cell_type": "code",
   "execution_count": null,
   "id": "5e7e814c",
   "metadata": {},
   "outputs": [],
   "source": []
  }
 ],
 "metadata": {
  "kernelspec": {
   "display_name": "Python 3 (ipykernel)",
   "language": "python",
   "name": "python3"
  },
  "language_info": {
   "codemirror_mode": {
    "name": "ipython",
    "version": 3
   },
   "file_extension": ".py",
   "mimetype": "text/x-python",
   "name": "python",
   "nbconvert_exporter": "python",
   "pygments_lexer": "ipython3",
   "version": "3.10.1"
  }
 },
 "nbformat": 4,
 "nbformat_minor": 5
}
